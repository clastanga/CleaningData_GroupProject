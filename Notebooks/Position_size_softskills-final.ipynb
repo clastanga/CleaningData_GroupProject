{
 "cells": [
  {
   "cell_type": "code",
   "execution_count": 6,
   "metadata": {},
   "outputs": [],
   "source": [
    "import pandas as pd\n",
    "import numpy as np\n",
    "import re\n",
    "from matplotlib import pyplot as plt\n",
    "import itertools\n",
    "plt.style.use('ggplot')\n",
    "import warnings\n",
    "warnings.filterwarnings(\"ignore\")"
   ]
  },
  {
   "cell_type": "code",
   "execution_count": 7,
   "metadata": {},
   "outputs": [],
   "source": [
    "data = pd.read_csv('/Users/claudia/Ironhack/Week3/goup_project/data_companies.csv')"
   ]
  },
  {
   "cell_type": "code",
   "execution_count": 8,
   "metadata": {},
   "outputs": [
    {
     "data": {
      "text/plain": [
       "(4099, 11)"
      ]
     },
     "execution_count": 8,
     "metadata": {},
     "output_type": "execute_result"
    }
   ],
   "source": [
    "data.shape"
   ]
  },
  {
   "cell_type": "code",
   "execution_count": 9,
   "metadata": {},
   "outputs": [],
   "source": [
    "#data.head(20)"
   ]
  },
  {
   "cell_type": "code",
   "execution_count": 10,
   "metadata": {},
   "outputs": [
    {
     "data": {
      "text/plain": [
       "212"
      ]
     },
     "execution_count": 10,
     "metadata": {},
     "output_type": "execute_result"
    }
   ],
   "source": [
    "data['ID'].duplicated().sum()"
   ]
  },
  {
   "cell_type": "code",
   "execution_count": 11,
   "metadata": {},
   "outputs": [],
   "source": [
    "data.drop_duplicates(subset =\"ID\",keep = False, inplace = True) "
   ]
  },
  {
   "cell_type": "code",
   "execution_count": 12,
   "metadata": {
    "scrolled": true
   },
   "outputs": [
    {
     "data": {
      "text/html": [
       "<div>\n",
       "<style scoped>\n",
       "    .dataframe tbody tr th:only-of-type {\n",
       "        vertical-align: middle;\n",
       "    }\n",
       "\n",
       "    .dataframe tbody tr th {\n",
       "        vertical-align: top;\n",
       "    }\n",
       "\n",
       "    .dataframe thead th {\n",
       "        text-align: right;\n",
       "    }\n",
       "</style>\n",
       "<table border=\"1\" class=\"dataframe\">\n",
       "  <thead>\n",
       "    <tr style=\"text-align: right;\">\n",
       "      <th></th>\n",
       "      <th>Unnamed: 0</th>\n",
       "      <th>ID</th>\n",
       "      <th>position</th>\n",
       "      <th>company</th>\n",
       "      <th>reviews</th>\n",
       "      <th>size</th>\n",
       "      <th>industry</th>\n",
       "      <th>location</th>\n",
       "      <th>state</th>\n",
       "      <th>zip_code</th>\n",
       "      <th>description</th>\n",
       "    </tr>\n",
       "  </thead>\n",
       "  <tbody>\n",
       "    <tr>\n",
       "      <th>0</th>\n",
       "      <td>0</td>\n",
       "      <td>3</td>\n",
       "      <td>Data Analyst</td>\n",
       "      <td>Operation HOPE</td>\n",
       "      <td>44.0</td>\n",
       "      <td>medium</td>\n",
       "      <td>non-profit organization management</td>\n",
       "      <td>Atlanta</td>\n",
       "      <td>GA</td>\n",
       "      <td>30303.0</td>\n",
       "      <td>DEPARTMENT: Program OperationsPOSITION LOCATIO...</td>\n",
       "    </tr>\n",
       "    <tr>\n",
       "      <th>1</th>\n",
       "      <td>1</td>\n",
       "      <td>4</td>\n",
       "      <td>Assistant Professor -TT - Signal Processing &amp; ...</td>\n",
       "      <td>Emory University</td>\n",
       "      <td>550.0</td>\n",
       "      <td>very big</td>\n",
       "      <td>higher education</td>\n",
       "      <td>Atlanta</td>\n",
       "      <td>GA</td>\n",
       "      <td>NaN</td>\n",
       "      <td>DESCRIPTION\\nThe Emory University Department o...</td>\n",
       "    </tr>\n",
       "    <tr>\n",
       "      <th>2</th>\n",
       "      <td>2</td>\n",
       "      <td>5</td>\n",
       "      <td>Manager of Data Engineering</td>\n",
       "      <td>McKinsey &amp; Company</td>\n",
       "      <td>385.0</td>\n",
       "      <td>very big</td>\n",
       "      <td>management consulting</td>\n",
       "      <td>Atlanta</td>\n",
       "      <td>GA</td>\n",
       "      <td>30318.0</td>\n",
       "      <td>Qualifications\\nBachelor’s degree in Computer ...</td>\n",
       "    </tr>\n",
       "    <tr>\n",
       "      <th>3</th>\n",
       "      <td>3</td>\n",
       "      <td>6</td>\n",
       "      <td>Product Specialist - Periscope, New Ventures</td>\n",
       "      <td>McKinsey &amp; Company</td>\n",
       "      <td>385.0</td>\n",
       "      <td>very big</td>\n",
       "      <td>management consulting</td>\n",
       "      <td>Atlanta</td>\n",
       "      <td>GA</td>\n",
       "      <td>30318.0</td>\n",
       "      <td>Qualifications\\nBachelor’s degree\\n5-7 years o...</td>\n",
       "    </tr>\n",
       "    <tr>\n",
       "      <th>6</th>\n",
       "      <td>6</td>\n",
       "      <td>10</td>\n",
       "      <td>STATISTICAL FORECAST ANALYST</td>\n",
       "      <td>The Home Depot</td>\n",
       "      <td>38844.0</td>\n",
       "      <td>very big</td>\n",
       "      <td>retail</td>\n",
       "      <td>Atlanta</td>\n",
       "      <td>GA</td>\n",
       "      <td>NaN</td>\n",
       "      <td>:\\n\\nThe Statistical Forecast Analyst position...</td>\n",
       "    </tr>\n",
       "    <tr>\n",
       "      <th>...</th>\n",
       "      <td>...</td>\n",
       "      <td>...</td>\n",
       "      <td>...</td>\n",
       "      <td>...</td>\n",
       "      <td>...</td>\n",
       "      <td>...</td>\n",
       "      <td>...</td>\n",
       "      <td>...</td>\n",
       "      <td>...</td>\n",
       "      <td>...</td>\n",
       "      <td>...</td>\n",
       "    </tr>\n",
       "    <tr>\n",
       "      <th>4094</th>\n",
       "      <td>4094</td>\n",
       "      <td>6945</td>\n",
       "      <td>VP Marketing, Strategy, Analytics &amp; Data Science</td>\n",
       "      <td>Williams-Sonoma, Inc.</td>\n",
       "      <td>1578.0</td>\n",
       "      <td>big</td>\n",
       "      <td>retail</td>\n",
       "      <td>San Francisco</td>\n",
       "      <td>CA</td>\n",
       "      <td>94111.0</td>\n",
       "      <td>Our Company\\n\\nFounded in 1956, Williams-Sonom...</td>\n",
       "    </tr>\n",
       "    <tr>\n",
       "      <th>4095</th>\n",
       "      <td>4095</td>\n",
       "      <td>6947</td>\n",
       "      <td>IVD Bioinformatics Scientist</td>\n",
       "      <td>Guardant Health</td>\n",
       "      <td>7.0</td>\n",
       "      <td>medium</td>\n",
       "      <td>biotechnology</td>\n",
       "      <td>Redwood City</td>\n",
       "      <td>CA</td>\n",
       "      <td>94063.0</td>\n",
       "      <td>Job Description\\n\\nAt Guardant Health, we are ...</td>\n",
       "    </tr>\n",
       "    <tr>\n",
       "      <th>4096</th>\n",
       "      <td>4096</td>\n",
       "      <td>6949</td>\n",
       "      <td>Scientist, Cancer Immunology Biology</td>\n",
       "      <td>Pfizer</td>\n",
       "      <td>4214.0</td>\n",
       "      <td>very big</td>\n",
       "      <td>pharmaceuticals</td>\n",
       "      <td>San Francisco</td>\n",
       "      <td>CA</td>\n",
       "      <td>NaN</td>\n",
       "      <td>A career at Pfizer offers opportunity, ownersh...</td>\n",
       "    </tr>\n",
       "    <tr>\n",
       "      <th>4097</th>\n",
       "      <td>4097</td>\n",
       "      <td>6950</td>\n",
       "      <td>Developer Evangelist - Data Science and Deep L...</td>\n",
       "      <td>Samsung NEXT</td>\n",
       "      <td>NaN</td>\n",
       "      <td>small</td>\n",
       "      <td>consumer electronics</td>\n",
       "      <td>San Francisco</td>\n",
       "      <td>CA</td>\n",
       "      <td>NaN</td>\n",
       "      <td>Samsung NEXT’s MissingLink product team is in ...</td>\n",
       "    </tr>\n",
       "    <tr>\n",
       "      <th>4098</th>\n",
       "      <td>4098</td>\n",
       "      <td>6952</td>\n",
       "      <td>Senior Data Scientist / Machine Learning Engineer</td>\n",
       "      <td>Jobspring Partners</td>\n",
       "      <td>27.0</td>\n",
       "      <td>medium</td>\n",
       "      <td>staffing and recruiting</td>\n",
       "      <td>Sunnyvale</td>\n",
       "      <td>CA</td>\n",
       "      <td>NaN</td>\n",
       "      <td>Our client is a well funded mature startup in ...</td>\n",
       "    </tr>\n",
       "  </tbody>\n",
       "</table>\n",
       "<p>3711 rows × 11 columns</p>\n",
       "</div>"
      ],
      "text/plain": [
       "      Unnamed: 0    ID                                           position  \\\n",
       "0              0     3                                       Data Analyst   \n",
       "1              1     4  Assistant Professor -TT - Signal Processing & ...   \n",
       "2              2     5                        Manager of Data Engineering   \n",
       "3              3     6       Product Specialist - Periscope, New Ventures   \n",
       "6              6    10                       STATISTICAL FORECAST ANALYST   \n",
       "...          ...   ...                                                ...   \n",
       "4094        4094  6945   VP Marketing, Strategy, Analytics & Data Science   \n",
       "4095        4095  6947                       IVD Bioinformatics Scientist   \n",
       "4096        4096  6949               Scientist, Cancer Immunology Biology   \n",
       "4097        4097  6950  Developer Evangelist - Data Science and Deep L...   \n",
       "4098        4098  6952  Senior Data Scientist / Machine Learning Engineer   \n",
       "\n",
       "                    company  reviews      size  \\\n",
       "0            Operation HOPE     44.0    medium   \n",
       "1          Emory University    550.0  very big   \n",
       "2        McKinsey & Company    385.0  very big   \n",
       "3        McKinsey & Company    385.0  very big   \n",
       "6            The Home Depot  38844.0  very big   \n",
       "...                     ...      ...       ...   \n",
       "4094  Williams-Sonoma, Inc.   1578.0       big   \n",
       "4095        Guardant Health      7.0    medium   \n",
       "4096                 Pfizer   4214.0  very big   \n",
       "4097           Samsung NEXT      NaN     small   \n",
       "4098     Jobspring Partners     27.0    medium   \n",
       "\n",
       "                                industry       location state  zip_code  \\\n",
       "0     non-profit organization management        Atlanta    GA   30303.0   \n",
       "1                       higher education        Atlanta    GA       NaN   \n",
       "2                  management consulting        Atlanta    GA   30318.0   \n",
       "3                  management consulting        Atlanta    GA   30318.0   \n",
       "6                                 retail        Atlanta    GA       NaN   \n",
       "...                                  ...            ...   ...       ...   \n",
       "4094                              retail  San Francisco    CA   94111.0   \n",
       "4095                       biotechnology   Redwood City    CA   94063.0   \n",
       "4096                     pharmaceuticals  San Francisco    CA       NaN   \n",
       "4097                consumer electronics  San Francisco    CA       NaN   \n",
       "4098             staffing and recruiting      Sunnyvale    CA       NaN   \n",
       "\n",
       "                                            description  \n",
       "0     DEPARTMENT: Program OperationsPOSITION LOCATIO...  \n",
       "1     DESCRIPTION\\nThe Emory University Department o...  \n",
       "2     Qualifications\\nBachelor’s degree in Computer ...  \n",
       "3     Qualifications\\nBachelor’s degree\\n5-7 years o...  \n",
       "6     :\\n\\nThe Statistical Forecast Analyst position...  \n",
       "...                                                 ...  \n",
       "4094  Our Company\\n\\nFounded in 1956, Williams-Sonom...  \n",
       "4095  Job Description\\n\\nAt Guardant Health, we are ...  \n",
       "4096  A career at Pfizer offers opportunity, ownersh...  \n",
       "4097  Samsung NEXT’s MissingLink product team is in ...  \n",
       "4098  Our client is a well funded mature startup in ...  \n",
       "\n",
       "[3711 rows x 11 columns]"
      ]
     },
     "execution_count": 12,
     "metadata": {},
     "output_type": "execute_result"
    }
   ],
   "source": [
    "data"
   ]
  },
  {
   "cell_type": "code",
   "execution_count": 13,
   "metadata": {},
   "outputs": [],
   "source": [
    "# Group listings for data analysts \n",
    "\n",
    "data_analyst = data[data['position'].str.contains(\"Data Analyst|Data analyst|data analyst|Analyst|analyst]\")] \n",
    "data_analyst_txt = data_analyst.position.values\n",
    "#data_analyst_txt"
   ]
  },
  {
   "cell_type": "code",
   "execution_count": 14,
   "metadata": {},
   "outputs": [
    {
     "data": {
      "text/plain": [
       "(467, 11)"
      ]
     },
     "execution_count": 14,
     "metadata": {},
     "output_type": "execute_result"
    }
   ],
   "source": [
    "data_analyst.shape"
   ]
  },
  {
   "cell_type": "code",
   "execution_count": 15,
   "metadata": {},
   "outputs": [],
   "source": [
    "data_scientist = data[data['position'].str.contains(\"Data Scientist|Data scientist|data scientist|Scientist|scientist\")] \n",
    "data_scientist_text = data_scientist.position.values"
   ]
  },
  {
   "cell_type": "code",
   "execution_count": 16,
   "metadata": {},
   "outputs": [
    {
     "data": {
      "text/plain": [
       "(1364, 11)"
      ]
     },
     "execution_count": 16,
     "metadata": {},
     "output_type": "execute_result"
    }
   ],
   "source": [
    "data_scientist.shape"
   ]
  },
  {
   "cell_type": "code",
   "execution_count": 17,
   "metadata": {},
   "outputs": [],
   "source": [
    "engineer = data[data['position'].str.contains(\"Engineer|engineer|Programmer|programmer|Developer|developer\")] \n",
    "engineer_text = engineer.position.values"
   ]
  },
  {
   "cell_type": "code",
   "execution_count": 18,
   "metadata": {},
   "outputs": [
    {
     "data": {
      "text/plain": [
       "(841, 11)"
      ]
     },
     "execution_count": 18,
     "metadata": {},
     "output_type": "execute_result"
    }
   ],
   "source": [
    "engineer.shape"
   ]
  },
  {
   "cell_type": "code",
   "execution_count": 19,
   "metadata": {},
   "outputs": [],
   "source": [
    "def clean_column(text):\n",
    "    if text in data_analyst_txt:\n",
    "        return 'analyst'\n",
    "    elif text in data_scientist_text:\n",
    "        return 'data scientist'\n",
    "    elif text in engineer_text:\n",
    "        return 'engineer'\n",
    "    else:\n",
    "        return 'other'\n",
    "\n",
    "data['position'] = list(map(clean_column, data['position']))"
   ]
  },
  {
   "cell_type": "code",
   "execution_count": 20,
   "metadata": {},
   "outputs": [],
   "source": [
    "df = pd.DataFrame(data['position'].value_counts())"
   ]
  },
  {
   "cell_type": "code",
   "execution_count": 21,
   "metadata": {},
   "outputs": [
    {
     "data": {
      "text/html": [
       "<div>\n",
       "<style scoped>\n",
       "    .dataframe tbody tr th:only-of-type {\n",
       "        vertical-align: middle;\n",
       "    }\n",
       "\n",
       "    .dataframe tbody tr th {\n",
       "        vertical-align: top;\n",
       "    }\n",
       "\n",
       "    .dataframe thead th {\n",
       "        text-align: right;\n",
       "    }\n",
       "</style>\n",
       "<table border=\"1\" class=\"dataframe\">\n",
       "  <thead>\n",
       "    <tr style=\"text-align: right;\">\n",
       "      <th></th>\n",
       "      <th>position</th>\n",
       "    </tr>\n",
       "  </thead>\n",
       "  <tbody>\n",
       "    <tr>\n",
       "      <th>data scientist</th>\n",
       "      <td>1348</td>\n",
       "    </tr>\n",
       "    <tr>\n",
       "      <th>other</th>\n",
       "      <td>1128</td>\n",
       "    </tr>\n",
       "    <tr>\n",
       "      <th>engineer</th>\n",
       "      <td>768</td>\n",
       "    </tr>\n",
       "    <tr>\n",
       "      <th>analyst</th>\n",
       "      <td>467</td>\n",
       "    </tr>\n",
       "  </tbody>\n",
       "</table>\n",
       "</div>"
      ],
      "text/plain": [
       "                position\n",
       "data scientist      1348\n",
       "other               1128\n",
       "engineer             768\n",
       "analyst              467"
      ]
     },
     "execution_count": 21,
     "metadata": {},
     "output_type": "execute_result"
    }
   ],
   "source": [
    "df"
   ]
  },
  {
   "cell_type": "code",
   "execution_count": 22,
   "metadata": {},
   "outputs": [
    {
     "data": {
      "text/html": [
       "<div>\n",
       "<style scoped>\n",
       "    .dataframe tbody tr th:only-of-type {\n",
       "        vertical-align: middle;\n",
       "    }\n",
       "\n",
       "    .dataframe tbody tr th {\n",
       "        vertical-align: top;\n",
       "    }\n",
       "\n",
       "    .dataframe thead th {\n",
       "        text-align: right;\n",
       "    }\n",
       "</style>\n",
       "<table border=\"1\" class=\"dataframe\">\n",
       "  <thead>\n",
       "    <tr style=\"text-align: right;\">\n",
       "      <th></th>\n",
       "      <th>Unnamed: 0</th>\n",
       "      <th>ID</th>\n",
       "      <th>position</th>\n",
       "      <th>company</th>\n",
       "      <th>reviews</th>\n",
       "      <th>size</th>\n",
       "      <th>industry</th>\n",
       "      <th>location</th>\n",
       "      <th>state</th>\n",
       "      <th>zip_code</th>\n",
       "      <th>description</th>\n",
       "    </tr>\n",
       "  </thead>\n",
       "  <tbody>\n",
       "    <tr>\n",
       "      <th>0</th>\n",
       "      <td>0</td>\n",
       "      <td>3</td>\n",
       "      <td>analyst</td>\n",
       "      <td>Operation HOPE</td>\n",
       "      <td>44.0</td>\n",
       "      <td>medium</td>\n",
       "      <td>non-profit organization management</td>\n",
       "      <td>Atlanta</td>\n",
       "      <td>GA</td>\n",
       "      <td>30303.0</td>\n",
       "      <td>DEPARTMENT: Program OperationsPOSITION LOCATIO...</td>\n",
       "    </tr>\n",
       "    <tr>\n",
       "      <th>1</th>\n",
       "      <td>1</td>\n",
       "      <td>4</td>\n",
       "      <td>other</td>\n",
       "      <td>Emory University</td>\n",
       "      <td>550.0</td>\n",
       "      <td>very big</td>\n",
       "      <td>higher education</td>\n",
       "      <td>Atlanta</td>\n",
       "      <td>GA</td>\n",
       "      <td>NaN</td>\n",
       "      <td>DESCRIPTION\\nThe Emory University Department o...</td>\n",
       "    </tr>\n",
       "    <tr>\n",
       "      <th>2</th>\n",
       "      <td>2</td>\n",
       "      <td>5</td>\n",
       "      <td>engineer</td>\n",
       "      <td>McKinsey &amp; Company</td>\n",
       "      <td>385.0</td>\n",
       "      <td>very big</td>\n",
       "      <td>management consulting</td>\n",
       "      <td>Atlanta</td>\n",
       "      <td>GA</td>\n",
       "      <td>30318.0</td>\n",
       "      <td>Qualifications\\nBachelor’s degree in Computer ...</td>\n",
       "    </tr>\n",
       "    <tr>\n",
       "      <th>3</th>\n",
       "      <td>3</td>\n",
       "      <td>6</td>\n",
       "      <td>other</td>\n",
       "      <td>McKinsey &amp; Company</td>\n",
       "      <td>385.0</td>\n",
       "      <td>very big</td>\n",
       "      <td>management consulting</td>\n",
       "      <td>Atlanta</td>\n",
       "      <td>GA</td>\n",
       "      <td>30318.0</td>\n",
       "      <td>Qualifications\\nBachelor’s degree\\n5-7 years o...</td>\n",
       "    </tr>\n",
       "    <tr>\n",
       "      <th>6</th>\n",
       "      <td>6</td>\n",
       "      <td>10</td>\n",
       "      <td>other</td>\n",
       "      <td>The Home Depot</td>\n",
       "      <td>38844.0</td>\n",
       "      <td>very big</td>\n",
       "      <td>retail</td>\n",
       "      <td>Atlanta</td>\n",
       "      <td>GA</td>\n",
       "      <td>NaN</td>\n",
       "      <td>:\\n\\nThe Statistical Forecast Analyst position...</td>\n",
       "    </tr>\n",
       "  </tbody>\n",
       "</table>\n",
       "</div>"
      ],
      "text/plain": [
       "   Unnamed: 0  ID  position             company  reviews      size  \\\n",
       "0           0   3   analyst      Operation HOPE     44.0    medium   \n",
       "1           1   4     other    Emory University    550.0  very big   \n",
       "2           2   5  engineer  McKinsey & Company    385.0  very big   \n",
       "3           3   6     other  McKinsey & Company    385.0  very big   \n",
       "6           6  10     other      The Home Depot  38844.0  very big   \n",
       "\n",
       "                             industry location state  zip_code  \\\n",
       "0  non-profit organization management  Atlanta    GA   30303.0   \n",
       "1                    higher education  Atlanta    GA       NaN   \n",
       "2               management consulting  Atlanta    GA   30318.0   \n",
       "3               management consulting  Atlanta    GA   30318.0   \n",
       "6                              retail  Atlanta    GA       NaN   \n",
       "\n",
       "                                         description  \n",
       "0  DEPARTMENT: Program OperationsPOSITION LOCATIO...  \n",
       "1  DESCRIPTION\\nThe Emory University Department o...  \n",
       "2  Qualifications\\nBachelor’s degree in Computer ...  \n",
       "3  Qualifications\\nBachelor’s degree\\n5-7 years o...  \n",
       "6  :\\n\\nThe Statistical Forecast Analyst position...  "
      ]
     },
     "execution_count": 22,
     "metadata": {},
     "output_type": "execute_result"
    }
   ],
   "source": [
    "data.head()"
   ]
  },
  {
   "cell_type": "code",
   "execution_count": 23,
   "metadata": {},
   "outputs": [
    {
     "data": {
      "text/plain": [
       "data scientist    1348\n",
       "other             1128\n",
       "engineer           768\n",
       "analyst            467\n",
       "Name: position, dtype: int64"
      ]
     },
     "execution_count": 23,
     "metadata": {},
     "output_type": "execute_result"
    }
   ],
   "source": [
    "data['position'].value_counts()"
   ]
  },
  {
   "cell_type": "code",
   "execution_count": 24,
   "metadata": {},
   "outputs": [
    {
     "data": {
      "text/plain": [
       "very big    1158\n",
       "big         1033\n",
       "small        823\n",
       "medium       697\n",
       "Name: size, dtype: int64"
      ]
     },
     "execution_count": 24,
     "metadata": {},
     "output_type": "execute_result"
    }
   ],
   "source": [
    "data['size'].value_counts()"
   ]
  },
  {
   "cell_type": "code",
   "execution_count": 27,
   "metadata": {},
   "outputs": [],
   "source": [
    "data_copy = data.drop(data[data['position'].str.contains('other')].index.tolist())"
   ]
  },
  {
   "cell_type": "code",
   "execution_count": 28,
   "metadata": {},
   "outputs": [
    {
     "data": {
      "text/html": [
       "<div>\n",
       "<style scoped>\n",
       "    .dataframe tbody tr th:only-of-type {\n",
       "        vertical-align: middle;\n",
       "    }\n",
       "\n",
       "    .dataframe tbody tr th {\n",
       "        vertical-align: top;\n",
       "    }\n",
       "\n",
       "    .dataframe thead th {\n",
       "        text-align: right;\n",
       "    }\n",
       "</style>\n",
       "<table border=\"1\" class=\"dataframe\">\n",
       "  <thead>\n",
       "    <tr style=\"text-align: right;\">\n",
       "      <th></th>\n",
       "      <th>Unnamed: 0</th>\n",
       "      <th>ID</th>\n",
       "      <th>position</th>\n",
       "      <th>company</th>\n",
       "      <th>reviews</th>\n",
       "      <th>size</th>\n",
       "      <th>industry</th>\n",
       "      <th>location</th>\n",
       "      <th>state</th>\n",
       "      <th>zip_code</th>\n",
       "      <th>description</th>\n",
       "    </tr>\n",
       "  </thead>\n",
       "  <tbody>\n",
       "    <tr>\n",
       "      <th>0</th>\n",
       "      <td>0</td>\n",
       "      <td>3</td>\n",
       "      <td>analyst</td>\n",
       "      <td>Operation HOPE</td>\n",
       "      <td>44.0</td>\n",
       "      <td>medium</td>\n",
       "      <td>non-profit organization management</td>\n",
       "      <td>Atlanta</td>\n",
       "      <td>GA</td>\n",
       "      <td>30303.0</td>\n",
       "      <td>DEPARTMENT: Program OperationsPOSITION LOCATIO...</td>\n",
       "    </tr>\n",
       "    <tr>\n",
       "      <th>2</th>\n",
       "      <td>2</td>\n",
       "      <td>5</td>\n",
       "      <td>engineer</td>\n",
       "      <td>McKinsey &amp; Company</td>\n",
       "      <td>385.0</td>\n",
       "      <td>very big</td>\n",
       "      <td>management consulting</td>\n",
       "      <td>Atlanta</td>\n",
       "      <td>GA</td>\n",
       "      <td>30318.0</td>\n",
       "      <td>Qualifications\\nBachelor’s degree in Computer ...</td>\n",
       "    </tr>\n",
       "    <tr>\n",
       "      <th>7</th>\n",
       "      <td>7</td>\n",
       "      <td>11</td>\n",
       "      <td>data scientist</td>\n",
       "      <td>Chenega Corporation</td>\n",
       "      <td>390.0</td>\n",
       "      <td>medium</td>\n",
       "      <td>information technology and services</td>\n",
       "      <td>Atlanta</td>\n",
       "      <td>GA</td>\n",
       "      <td>NaN</td>\n",
       "      <td>Chenega Professional &amp;amp; Technical Services,...</td>\n",
       "    </tr>\n",
       "    <tr>\n",
       "      <th>10</th>\n",
       "      <td>10</td>\n",
       "      <td>13</td>\n",
       "      <td>data scientist</td>\n",
       "      <td>Emory University</td>\n",
       "      <td>550.0</td>\n",
       "      <td>very big</td>\n",
       "      <td>higher education</td>\n",
       "      <td>Atlanta</td>\n",
       "      <td>GA</td>\n",
       "      <td>NaN</td>\n",
       "      <td>DESCRIPTION\\nUnder minimal supervision, the As...</td>\n",
       "    </tr>\n",
       "    <tr>\n",
       "      <th>11</th>\n",
       "      <td>11</td>\n",
       "      <td>14</td>\n",
       "      <td>analyst</td>\n",
       "      <td>Newell Brands</td>\n",
       "      <td>912.0</td>\n",
       "      <td>very big</td>\n",
       "      <td>consumer goods</td>\n",
       "      <td>Atlanta</td>\n",
       "      <td>GA</td>\n",
       "      <td>NaN</td>\n",
       "      <td>Data Science Analyst– Business Intelligence\\nL...</td>\n",
       "    </tr>\n",
       "    <tr>\n",
       "      <th>...</th>\n",
       "      <td>...</td>\n",
       "      <td>...</td>\n",
       "      <td>...</td>\n",
       "      <td>...</td>\n",
       "      <td>...</td>\n",
       "      <td>...</td>\n",
       "      <td>...</td>\n",
       "      <td>...</td>\n",
       "      <td>...</td>\n",
       "      <td>...</td>\n",
       "      <td>...</td>\n",
       "    </tr>\n",
       "    <tr>\n",
       "      <th>4093</th>\n",
       "      <td>4093</td>\n",
       "      <td>6944</td>\n",
       "      <td>data scientist</td>\n",
       "      <td>Merck</td>\n",
       "      <td>2987.0</td>\n",
       "      <td>very big</td>\n",
       "      <td>pharmaceuticals</td>\n",
       "      <td>South San Francisco</td>\n",
       "      <td>CA</td>\n",
       "      <td>NaN</td>\n",
       "      <td>Requisition ID: RES002097\\n\\nMerck Research La...</td>\n",
       "    </tr>\n",
       "    <tr>\n",
       "      <th>4095</th>\n",
       "      <td>4095</td>\n",
       "      <td>6947</td>\n",
       "      <td>data scientist</td>\n",
       "      <td>Guardant Health</td>\n",
       "      <td>7.0</td>\n",
       "      <td>medium</td>\n",
       "      <td>biotechnology</td>\n",
       "      <td>Redwood City</td>\n",
       "      <td>CA</td>\n",
       "      <td>94063.0</td>\n",
       "      <td>Job Description\\n\\nAt Guardant Health, we are ...</td>\n",
       "    </tr>\n",
       "    <tr>\n",
       "      <th>4096</th>\n",
       "      <td>4096</td>\n",
       "      <td>6949</td>\n",
       "      <td>data scientist</td>\n",
       "      <td>Pfizer</td>\n",
       "      <td>4214.0</td>\n",
       "      <td>very big</td>\n",
       "      <td>pharmaceuticals</td>\n",
       "      <td>San Francisco</td>\n",
       "      <td>CA</td>\n",
       "      <td>NaN</td>\n",
       "      <td>A career at Pfizer offers opportunity, ownersh...</td>\n",
       "    </tr>\n",
       "    <tr>\n",
       "      <th>4097</th>\n",
       "      <td>4097</td>\n",
       "      <td>6950</td>\n",
       "      <td>engineer</td>\n",
       "      <td>Samsung NEXT</td>\n",
       "      <td>NaN</td>\n",
       "      <td>small</td>\n",
       "      <td>consumer electronics</td>\n",
       "      <td>San Francisco</td>\n",
       "      <td>CA</td>\n",
       "      <td>NaN</td>\n",
       "      <td>Samsung NEXT’s MissingLink product team is in ...</td>\n",
       "    </tr>\n",
       "    <tr>\n",
       "      <th>4098</th>\n",
       "      <td>4098</td>\n",
       "      <td>6952</td>\n",
       "      <td>data scientist</td>\n",
       "      <td>Jobspring Partners</td>\n",
       "      <td>27.0</td>\n",
       "      <td>medium</td>\n",
       "      <td>staffing and recruiting</td>\n",
       "      <td>Sunnyvale</td>\n",
       "      <td>CA</td>\n",
       "      <td>NaN</td>\n",
       "      <td>Our client is a well funded mature startup in ...</td>\n",
       "    </tr>\n",
       "  </tbody>\n",
       "</table>\n",
       "<p>2583 rows × 11 columns</p>\n",
       "</div>"
      ],
      "text/plain": [
       "      Unnamed: 0    ID        position              company  reviews  \\\n",
       "0              0     3         analyst       Operation HOPE     44.0   \n",
       "2              2     5        engineer   McKinsey & Company    385.0   \n",
       "7              7    11  data scientist  Chenega Corporation    390.0   \n",
       "10            10    13  data scientist     Emory University    550.0   \n",
       "11            11    14         analyst        Newell Brands    912.0   \n",
       "...          ...   ...             ...                  ...      ...   \n",
       "4093        4093  6944  data scientist                Merck   2987.0   \n",
       "4095        4095  6947  data scientist      Guardant Health      7.0   \n",
       "4096        4096  6949  data scientist               Pfizer   4214.0   \n",
       "4097        4097  6950        engineer         Samsung NEXT      NaN   \n",
       "4098        4098  6952  data scientist   Jobspring Partners     27.0   \n",
       "\n",
       "          size                             industry             location  \\\n",
       "0       medium   non-profit organization management              Atlanta   \n",
       "2     very big                management consulting              Atlanta   \n",
       "7       medium  information technology and services              Atlanta   \n",
       "10    very big                     higher education              Atlanta   \n",
       "11    very big                       consumer goods              Atlanta   \n",
       "...        ...                                  ...                  ...   \n",
       "4093  very big                      pharmaceuticals  South San Francisco   \n",
       "4095    medium                        biotechnology         Redwood City   \n",
       "4096  very big                      pharmaceuticals        San Francisco   \n",
       "4097     small                 consumer electronics        San Francisco   \n",
       "4098    medium              staffing and recruiting            Sunnyvale   \n",
       "\n",
       "     state  zip_code                                        description  \n",
       "0       GA   30303.0  DEPARTMENT: Program OperationsPOSITION LOCATIO...  \n",
       "2       GA   30318.0  Qualifications\\nBachelor’s degree in Computer ...  \n",
       "7       GA       NaN  Chenega Professional &amp; Technical Services,...  \n",
       "10      GA       NaN  DESCRIPTION\\nUnder minimal supervision, the As...  \n",
       "11      GA       NaN  Data Science Analyst– Business Intelligence\\nL...  \n",
       "...    ...       ...                                                ...  \n",
       "4093    CA       NaN  Requisition ID: RES002097\\n\\nMerck Research La...  \n",
       "4095    CA   94063.0  Job Description\\n\\nAt Guardant Health, we are ...  \n",
       "4096    CA       NaN  A career at Pfizer offers opportunity, ownersh...  \n",
       "4097    CA       NaN  Samsung NEXT’s MissingLink product team is in ...  \n",
       "4098    CA       NaN  Our client is a well funded mature startup in ...  \n",
       "\n",
       "[2583 rows x 11 columns]"
      ]
     },
     "execution_count": 28,
     "metadata": {},
     "output_type": "execute_result"
    }
   ],
   "source": [
    "data_copy"
   ]
  },
  {
   "cell_type": "code",
   "execution_count": 29,
   "metadata": {},
   "outputs": [],
   "source": [
    "import seaborn as sns"
   ]
  },
  {
   "cell_type": "code",
   "execution_count": 34,
   "metadata": {},
   "outputs": [
    {
     "data": {
      "image/png": "[encoded data removed]",
      "text/plain": [
       "<Figure size 648x360 with 3 Axes>"
      ]
     },
     "metadata": {},
     "output_type": "display_data"
    }
   ],
   "source": [
    "g_no_other = sns.catplot(x=\"size\", col=\"position\",\n",
    "\n",
    "                data=data_copy, saturation=.5, kind=\"count\", \n",
    "                         estimator=(lambda x: len(x) / len(data_copy) * 100), ci=None, aspect=.6)\n",
    "  "
   ]
  },
  {
   "cell_type": "code",
   "execution_count": 32,
   "metadata": {},
   "outputs": [],
   "source": [
    "g_no_other.savefig('size', dpi=300)"
   ]
  },
  {
   "cell_type": "code",
   "execution_count": null,
   "metadata": {},
   "outputs": [],
   "source": [
    "ax = sns.barplot(x=\"size\", y=\"x\", data=df, \n",
    "                 estimator=lambda x: len(x) / len(df) * 100)\n",
    "ax.set(ylabel=\"Percent\")"
   ]
  },
  {
   "cell_type": "code",
   "execution_count": null,
   "metadata": {},
   "outputs": [],
   "source": []
  },
  {
   "cell_type": "code",
   "execution_count": null,
   "metadata": {},
   "outputs": [],
   "source": [
    "#df_position_counts = pd.DataFrame(data['industry'].value_counts())"
   ]
  },
  {
   "cell_type": "code",
   "execution_count": null,
   "metadata": {},
   "outputs": [],
   "source": [
    "#df_position_counts = df_position_counts.reset_index()\n",
    "#df_position_counts.columns =['industry','counts']\n",
    "#df_position_counts"
   ]
  },
  {
   "cell_type": "code",
   "execution_count": null,
   "metadata": {},
   "outputs": [],
   "source": [
    "#position_counts = df_position_counts[df_position_counts['counts']>=119]"
   ]
  },
  {
   "cell_type": "code",
   "execution_count": null,
   "metadata": {},
   "outputs": [],
   "source": [
    "#position_counts_arr = list(position_counts['industry'])\n",
    "#position_counts_arr"
   ]
  },
  {
   "cell_type": "code",
   "execution_count": null,
   "metadata": {
    "scrolled": true
   },
   "outputs": [],
   "source": [
    "#position_counts"
   ]
  },
  {
   "cell_type": "code",
   "execution_count": null,
   "metadata": {},
   "outputs": [],
   "source": [
    "def count_industry(patt,text):\n",
    "    pattern = re.compile(patt)\n",
    "    count = 0\n",
    "    for t in text:\n",
    "        if pattern.search(t):\n",
    "            count+=1\n",
    "    return count"
   ]
  },
  {
   "cell_type": "code",
   "execution_count": null,
   "metadata": {},
   "outputs": [],
   "source": [
    "#count_industry(data_scientist_ind)"
   ]
  },
  {
   "cell_type": "code",
   "execution_count": null,
   "metadata": {},
   "outputs": [],
   "source": [
    "data_scientist_ind = data_scientist.industry.values"
   ]
  },
  {
   "cell_type": "code",
   "execution_count": null,
   "metadata": {},
   "outputs": [],
   "source": [
    "engineer_ind = engineer.industry.values"
   ]
  },
  {
   "cell_type": "code",
   "execution_count": null,
   "metadata": {},
   "outputs": [],
   "source": [
    "data_analyst_ind = data_analyst.industry.values"
   ]
  },
  {
   "cell_type": "code",
   "execution_count": null,
   "metadata": {},
   "outputs": [],
   "source": [
    "industries = ['internet',\n",
    " 'computer software',\n",
    " 'biotechnology',\n",
    " 'information technology and services',\n",
    " 'defense & space',\n",
    " 'financial services',\n",
    " 'research',\n",
    " 'staffing and recruiting',\n",
    " 'hospital & health care',\n",
    " 'pharmaceuticals']\n",
    "\n",
    "industries_patt = ['(?i)\\Winternet\\W','(?i)\\Wcomputer software\\W?','(?i)biotechnology\\W?','(?i)\\Winformation technology and services\\W?',\n",
    "              \"(?i)\\Wdefense & space\\W?\",\"(?i)\\Wfinancial services\\W?\",\"(?i)\\Wresearch\\s?BI\\W?\",\n",
    "              \"(?i)\\Wstaffing and recruiting\\W?\",'(?i)\\Whospital & health care\\W?', '(?i)\\Wpharmaceuticals\\W?']\n",
    "\n",
    "industry = pd.DataFrame(\n",
    "{'industry' : industries,\n",
    "'regex_pattern': industries_patt})"
   ]
  },
  {
   "cell_type": "code",
   "execution_count": null,
   "metadata": {},
   "outputs": [],
   "source": [
    "i = []\n",
    "for x in industry['industry']:\n",
    "    i.append(count_industry(x,data_scientist_ind))\n",
    "industry['count'] = i\n",
    "industry['Data Scientist'] = round(industry['count']/len(data_scientist_ind),2)\n",
    "industry"
   ]
  },
  {
   "cell_type": "code",
   "execution_count": null,
   "metadata": {},
   "outputs": [],
   "source": [
    "i = []\n",
    "for x in industry['industry']:\n",
    "    i.append(count_industry(x,engineer_ind))\n",
    "industry['count'] = i\n",
    "industry['Engineer'] = round(industry['count']/len(engineer_ind),2)\n",
    "industry"
   ]
  },
  {
   "cell_type": "code",
   "execution_count": null,
   "metadata": {},
   "outputs": [],
   "source": [
    "i = []\n",
    "for x in industry['industry']:\n",
    "    i.append(count_industry(x,data_analyst_ind))\n",
    "industry['count'] = i\n",
    "industry['Data Analyst'] = round(industry['count']/len(data_analyst_ind),2)\n",
    "industry"
   ]
  },
  {
   "cell_type": "code",
   "execution_count": null,
   "metadata": {},
   "outputs": [],
   "source": [
    "position= [\"Analyst\", \"Scientist\", \"Engineer\"]"
   ]
  },
  {
   "cell_type": "code",
   "execution_count": null,
   "metadata": {},
   "outputs": [],
   "source": [
    "new_data= []\n",
    "for index,row in industry.iterrows():\n",
    "    new_data.append(dict(industry =row['industry'], pct= row['Data Analyst']*100,position='Analyst'))\n",
    "    new_data.append(dict(industry =row['industry'], pct=row['Data Scientist']*100,position='Scientist'))\n",
    "    new_data.append(dict(industry =row['industry'], pct=row['Engineer']*100,position='Engineer'))\n",
    "\n",
    "industry_flat= pd.DataFrame.from_records(new_data) "
   ]
  },
  {
   "cell_type": "code",
   "execution_count": null,
   "metadata": {},
   "outputs": [],
   "source": [
    "industry_flat.head()"
   ]
  },
  {
   "cell_type": "code",
   "execution_count": null,
   "metadata": {},
   "outputs": [],
   "source": [
    "g_2 = sns.catplot(x=\"pct\", y=\"industry\",\n",
    "\n",
    "                col=\"position\",\n",
    "\n",
    "                data=industry_flat, kind=\"bar\",\n",
    "\n",
    "                height=5, aspect= 1);"
   ]
  },
  {
   "cell_type": "code",
   "execution_count": null,
   "metadata": {},
   "outputs": [],
   "source": [
    "g_2.savefig('industry_2', dpi=300)"
   ]
  },
  {
   "cell_type": "code",
   "execution_count": null,
   "metadata": {},
   "outputs": [],
   "source": [
    "sns.set_style(\"white\") #whitegrid,dark\n",
    "sns.set_context(\"notebook\")\n",
    "sns.set_context(font_scale=2, rc={'font.size':15,'axes.labelsize':15})\n",
    "#plt.figure(figsize=(8,8))\n",
    "sns.set_context('notebook')\n",
    "\n",
    "option3= sns.factorplot(x= \"pct\", y=\"industry\", hue= 'position', data=industry_flat,\n",
    "             size=6, kind='bar', palette='magma', edgecolor = 'w', legend_out=False)\n",
    "plt.title('Industry')\n",
    "plt.show()\n",
    "option3.savefig(\"industry.png\", dpi=300)"
   ]
  },
  {
   "cell_type": "code",
   "execution_count": null,
   "metadata": {},
   "outputs": [],
   "source": []
  }
 ],
 "metadata": {
  "kernelspec": {
   "display_name": "Python 3",
   "language": "python",
   "name": "python3"
  },
  "language_info": {
   "codemirror_mode": {
    "name": "ipython",
    "version": 3
   },
   "file_extension": ".py",
   "mimetype": "text/x-python",
   "name": "python",
   "nbconvert_exporter": "python",
   "pygments_lexer": "ipython3",
   "version": "3.8.3"
  }
 },
 "nbformat": 4,
 "nbformat_minor": 4
}
