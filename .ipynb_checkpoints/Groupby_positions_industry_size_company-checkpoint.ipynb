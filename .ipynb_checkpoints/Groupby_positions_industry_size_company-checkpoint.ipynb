{
 "cells": [
  {
   "cell_type": "code",
   "execution_count": 1,
   "metadata": {},
   "outputs": [],
   "source": [
    "import pandas as pd\n",
    "import numpy as np\n",
    "import datetime\n",
    "import matplotlib.pyplot as plt\n",
    "import seaborn as sns\n",
    "sns.set_style('whitegrid')\n",
    "\n",
    "pd.set_option('display.max_columns', None)"
   ]
  },
  {
   "cell_type": "code",
   "execution_count": 2,
   "metadata": {},
   "outputs": [],
   "source": [
    "data = pd.read_csv('/Users/claudia/Ironhack/Week3/goup_project/repository_github/CleaningData_GroupProject/merged.csv')"
   ]
  },
  {
   "cell_type": "code",
   "execution_count": 3,
   "metadata": {},
   "outputs": [
    {
     "data": {
      "text/html": [
       "<div>\n",
       "<style scoped>\n",
       "    .dataframe tbody tr th:only-of-type {\n",
       "        vertical-align: middle;\n",
       "    }\n",
       "\n",
       "    .dataframe tbody tr th {\n",
       "        vertical-align: top;\n",
       "    }\n",
       "\n",
       "    .dataframe thead th {\n",
       "        text-align: right;\n",
       "    }\n",
       "</style>\n",
       "<table border=\"1\" class=\"dataframe\">\n",
       "  <thead>\n",
       "    <tr style=\"text-align: right;\">\n",
       "      <th></th>\n",
       "      <th>ID</th>\n",
       "      <th>position</th>\n",
       "      <th>company</th>\n",
       "      <th>reviews</th>\n",
       "      <th>location</th>\n",
       "      <th>zip_code</th>\n",
       "      <th>description</th>\n",
       "      <th>name</th>\n",
       "      <th>size</th>\n",
       "      <th>industry</th>\n",
       "      <th>country</th>\n",
       "    </tr>\n",
       "  </thead>\n",
       "  <tbody>\n",
       "    <tr>\n",
       "      <th>0</th>\n",
       "      <td>5317</td>\n",
       "      <td>Field Application Scientist - Boston</td>\n",
       "      <td>10x Genomics</td>\n",
       "      <td>NaN</td>\n",
       "      <td>Boston</td>\n",
       "      <td>NaN</td>\n",
       "      <td>Region: Boston\\n\\nThe Field Applications Scien...</td>\n",
       "      <td>10x genomics</td>\n",
       "      <td>201-500</td>\n",
       "      <td>biotechnology</td>\n",
       "      <td>united states</td>\n",
       "    </tr>\n",
       "    <tr>\n",
       "      <th>1</th>\n",
       "      <td>3124</td>\n",
       "      <td>Validation Scientist</td>\n",
       "      <td>23andMe</td>\n",
       "      <td>4.0</td>\n",
       "      <td>Mountain View</td>\n",
       "      <td>94041.0</td>\n",
       "      <td>23andMe is seeking a talented Validation Scien...</td>\n",
       "      <td>23andme</td>\n",
       "      <td>501-1000</td>\n",
       "      <td>biotechnology</td>\n",
       "      <td>united states</td>\n",
       "    </tr>\n",
       "    <tr>\n",
       "      <th>2</th>\n",
       "      <td>1559</td>\n",
       "      <td>Scientist / Senior Scientist - Computational B...</td>\n",
       "      <td>23andMe</td>\n",
       "      <td>4.0</td>\n",
       "      <td>Mountain View</td>\n",
       "      <td>94041.0</td>\n",
       "      <td>With the world’s largest database of more than...</td>\n",
       "      <td>23andme</td>\n",
       "      <td>501-1000</td>\n",
       "      <td>biotechnology</td>\n",
       "      <td>united states</td>\n",
       "    </tr>\n",
       "    <tr>\n",
       "      <th>3</th>\n",
       "      <td>3076</td>\n",
       "      <td>Population Geneticist - Ancestry Research</td>\n",
       "      <td>23andMe</td>\n",
       "      <td>4.0</td>\n",
       "      <td>Mountain View</td>\n",
       "      <td>94041.0</td>\n",
       "      <td>We are seeking colleagues with extensive train...</td>\n",
       "      <td>23andme</td>\n",
       "      <td>501-1000</td>\n",
       "      <td>biotechnology</td>\n",
       "      <td>united states</td>\n",
       "    </tr>\n",
       "    <tr>\n",
       "      <th>4</th>\n",
       "      <td>2764</td>\n",
       "      <td>Senior Product Manager, Research Tools</td>\n",
       "      <td>23andMe</td>\n",
       "      <td>4.0</td>\n",
       "      <td>Mountain View</td>\n",
       "      <td>94041.0</td>\n",
       "      <td>Who we are\\n\\n23andMe’s mission is to help ind...</td>\n",
       "      <td>23andme</td>\n",
       "      <td>501-1000</td>\n",
       "      <td>biotechnology</td>\n",
       "      <td>united states</td>\n",
       "    </tr>\n",
       "  </tbody>\n",
       "</table>\n",
       "</div>"
      ],
      "text/plain": [
       "     ID                                           position       company  \\\n",
       "0  5317               Field Application Scientist - Boston  10x Genomics   \n",
       "1  3124                               Validation Scientist       23andMe   \n",
       "2  1559  Scientist / Senior Scientist - Computational B...       23andMe   \n",
       "3  3076          Population Geneticist - Ancestry Research       23andMe   \n",
       "4  2764             Senior Product Manager, Research Tools       23andMe   \n",
       "\n",
       "   reviews       location  zip_code  \\\n",
       "0      NaN         Boston       NaN   \n",
       "1      4.0  Mountain View   94041.0   \n",
       "2      4.0  Mountain View   94041.0   \n",
       "3      4.0  Mountain View   94041.0   \n",
       "4      4.0  Mountain View   94041.0   \n",
       "\n",
       "                                         description          name      size  \\\n",
       "0  Region: Boston\\n\\nThe Field Applications Scien...  10x genomics   201-500   \n",
       "1  23andMe is seeking a talented Validation Scien...       23andme  501-1000   \n",
       "2  With the world’s largest database of more than...       23andme  501-1000   \n",
       "3  We are seeking colleagues with extensive train...       23andme  501-1000   \n",
       "4  Who we are\\n\\n23andMe’s mission is to help ind...       23andme  501-1000   \n",
       "\n",
       "        industry        country  \n",
       "0  biotechnology  united states  \n",
       "1  biotechnology  united states  \n",
       "2  biotechnology  united states  \n",
       "3  biotechnology  united states  \n",
       "4  biotechnology  united states  "
      ]
     },
     "execution_count": 3,
     "metadata": {},
     "output_type": "execute_result"
    }
   ],
   "source": [
    "data.head()"
   ]
  },
  {
   "cell_type": "code",
   "execution_count": 4,
   "metadata": {},
   "outputs": [
    {
     "name": "stdout",
     "output_type": "stream",
     "text": [
      "<class 'pandas.core.frame.DataFrame'>\n",
      "RangeIndex: 4099 entries, 0 to 4098\n",
      "Data columns (total 11 columns):\n",
      " #   Column       Non-Null Count  Dtype  \n",
      "---  ------       --------------  -----  \n",
      " 0   ID           4099 non-null   int64  \n",
      " 1   position     4099 non-null   object \n",
      " 2   company      4099 non-null   object \n",
      " 3   reviews      3404 non-null   float64\n",
      " 4   location     4099 non-null   object \n",
      " 5   zip_code     1472 non-null   float64\n",
      " 6   description  4099 non-null   object \n",
      " 7   name         4099 non-null   object \n",
      " 8   size         4099 non-null   object \n",
      " 9   industry     4099 non-null   object \n",
      " 10  country      4099 non-null   object \n",
      "dtypes: float64(2), int64(1), object(8)\n",
      "memory usage: 352.4+ KB\n"
     ]
    }
   ],
   "source": [
    "data.info()"
   ]
  },
  {
   "cell_type": "code",
   "execution_count": 5,
   "metadata": {},
   "outputs": [
    {
     "data": {
      "text/plain": [
       "(4099, 11)"
      ]
     },
     "execution_count": 5,
     "metadata": {},
     "output_type": "execute_result"
    }
   ],
   "source": [
    "data.shape"
   ]
  },
  {
   "cell_type": "code",
   "execution_count": 7,
   "metadata": {},
   "outputs": [
    {
     "data": {
      "text/plain": [
       "10001+        1349\n",
       "1001-5000      816\n",
       "51-200         590\n",
       "201-500        464\n",
       "11-50          340\n",
       "501-1000       312\n",
       "5001-10000     228\n",
       "Name: size, dtype: int64"
      ]
     },
     "execution_count": 7,
     "metadata": {},
     "output_type": "execute_result"
    }
   ],
   "source": [
    "data['size'].value_counts()"
   ]
  },
  {
   "cell_type": "code",
   "execution_count": 8,
   "metadata": {},
   "outputs": [
    {
     "data": {
      "text/plain": [
       "internet                               557\n",
       "computer software                      446\n",
       "biotechnology                          398\n",
       "information technology and services    245\n",
       "financial services                     234\n",
       "                                      ... \n",
       "luxury goods & jewelry                   1\n",
       "law practice                             1\n",
       "graphic design                           1\n",
       "professional training & coaching         1\n",
       "gambling & casinos                       1\n",
       "Name: industry, Length: 102, dtype: int64"
      ]
     },
     "execution_count": 8,
     "metadata": {},
     "output_type": "execute_result"
    }
   ],
   "source": [
    "data['industry'].value_counts()"
   ]
  },
  {
   "cell_type": "code",
   "execution_count": 14,
   "metadata": {},
   "outputs": [
    {
     "data": {
      "text/plain": [
       "ID                0\n",
       "position          0\n",
       "company           0\n",
       "reviews         695\n",
       "location          0\n",
       "zip_code       2627\n",
       "description       0\n",
       "name              0\n",
       "size              0\n",
       "industry          0\n",
       "country           0\n",
       "dtype: int64"
      ]
     },
     "execution_count": 14,
     "metadata": {},
     "output_type": "execute_result"
    }
   ],
   "source": [
    "data.isna().sum()"
   ]
  },
  {
   "cell_type": "code",
   "execution_count": 17,
   "metadata": {},
   "outputs": [
    {
     "data": {
      "text/plain": [
       "['accounting',\n",
       " 'airlines/aviation',\n",
       " 'apparel & fashion',\n",
       " 'architecture & planning',\n",
       " 'automotive',\n",
       " 'aviation & aerospace',\n",
       " 'banking',\n",
       " 'biotechnology',\n",
       " 'broadcast media',\n",
       " 'capital markets',\n",
       " 'chemicals',\n",
       " 'civic & social organization',\n",
       " 'civil engineering',\n",
       " 'commercial real estate',\n",
       " 'computer & network security',\n",
       " 'computer games',\n",
       " 'computer hardware',\n",
       " 'computer networking',\n",
       " 'computer software',\n",
       " 'construction',\n",
       " 'consumer electronics',\n",
       " 'consumer goods',\n",
       " 'consumer services',\n",
       " 'defense & space',\n",
       " 'design',\n",
       " 'e-learning',\n",
       " 'education management',\n",
       " 'electrical/electronic manufacturing',\n",
       " 'entertainment',\n",
       " 'environmental services',\n",
       " 'events services',\n",
       " 'executive office',\n",
       " 'facilities services',\n",
       " 'farming',\n",
       " 'financial services',\n",
       " 'food & beverages',\n",
       " 'food production',\n",
       " 'gambling & casinos',\n",
       " 'government administration',\n",
       " 'government relations',\n",
       " 'graphic design',\n",
       " 'health, wellness and fitness',\n",
       " 'higher education',\n",
       " 'hospital & health care',\n",
       " 'hospitality',\n",
       " 'human resources',\n",
       " 'individual & family services',\n",
       " 'information services',\n",
       " 'information technology and services',\n",
       " 'insurance',\n",
       " 'international affairs',\n",
       " 'international trade and development',\n",
       " 'internet',\n",
       " 'investment banking',\n",
       " 'investment management',\n",
       " 'law enforcement',\n",
       " 'law practice',\n",
       " 'legal services',\n",
       " 'leisure, travel & tourism',\n",
       " 'logistics and supply chain',\n",
       " 'luxury goods & jewelry',\n",
       " 'machinery',\n",
       " 'management consulting',\n",
       " 'market research',\n",
       " 'marketing and advertising',\n",
       " 'mechanical or industrial engineering',\n",
       " 'media production',\n",
       " 'medical devices',\n",
       " 'mental health care',\n",
       " 'mining & metals',\n",
       " 'museums and institutions',\n",
       " 'newspapers',\n",
       " 'non-profit organization management',\n",
       " 'oil & energy',\n",
       " 'online media',\n",
       " 'outsourcing/offshoring',\n",
       " 'performing arts',\n",
       " 'pharmaceuticals',\n",
       " 'philanthropy',\n",
       " 'photography',\n",
       " 'primary/secondary education',\n",
       " 'professional training & coaching',\n",
       " 'public policy',\n",
       " 'public relations and communications',\n",
       " 'public safety',\n",
       " 'publishing',\n",
       " 'real estate',\n",
       " 'renewables & environment',\n",
       " 'research',\n",
       " 'restaurants',\n",
       " 'retail',\n",
       " 'semiconductors',\n",
       " 'sporting goods',\n",
       " 'sports',\n",
       " 'staffing and recruiting',\n",
       " 'telecommunications',\n",
       " 'think tanks',\n",
       " 'transportation/trucking/railroad',\n",
       " 'utilities',\n",
       " 'venture capital & private equity',\n",
       " 'wholesale',\n",
       " 'wireless']"
      ]
     },
     "execution_count": 17,
     "metadata": {},
     "output_type": "execute_result"
    }
   ],
   "source": [
    "unique_values = list(np.unique(data['industry']))\n",
    "unique_values"
   ]
  },
  {
   "cell_type": "code",
   "execution_count": null,
   "metadata": {},
   "outputs": [],
   "source": []
  }
 ],
 "metadata": {
  "kernelspec": {
   "display_name": "Python 3",
   "language": "python",
   "name": "python3"
  },
  "language_info": {
   "codemirror_mode": {
    "name": "ipython",
    "version": 3
   },
   "file_extension": ".py",
   "mimetype": "text/x-python",
   "name": "python",
   "nbconvert_exporter": "python",
   "pygments_lexer": "ipython3",
   "version": "3.8.3"
  }
 },
 "nbformat": 4,
 "nbformat_minor": 4
}
