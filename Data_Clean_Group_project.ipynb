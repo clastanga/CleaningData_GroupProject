{
 "cells": [
  {
   "cell_type": "code",
   "execution_count": 1,
   "metadata": {},
   "outputs": [],
   "source": [
    "import pandas as pd\n",
    "import numpy as np\n",
    "import matplotlib.pyplot as plt\n",
    "%matplotlib inline \n",
    "import seaborn"
   ]
  },
  {
   "cell_type": "code",
   "execution_count": 2,
   "metadata": {},
   "outputs": [],
   "source": [
    "alldata = pd.read_csv('/Users/claudia/Ironhack/Week3/goup_project/alldata.csv')"
   ]
  },
  {
   "cell_type": "code",
   "execution_count": 3,
   "metadata": {},
   "outputs": [
    {
     "data": {
      "text/html": [
       "<div>\n",
       "<style scoped>\n",
       "    .dataframe tbody tr th:only-of-type {\n",
       "        vertical-align: middle;\n",
       "    }\n",
       "\n",
       "    .dataframe tbody tr th {\n",
       "        vertical-align: top;\n",
       "    }\n",
       "\n",
       "    .dataframe thead th {\n",
       "        text-align: right;\n",
       "    }\n",
       "</style>\n",
       "<table border=\"1\" class=\"dataframe\">\n",
       "  <thead>\n",
       "    <tr style=\"text-align: right;\">\n",
       "      <th></th>\n",
       "      <th>position</th>\n",
       "      <th>company</th>\n",
       "      <th>description</th>\n",
       "      <th>reviews</th>\n",
       "      <th>location</th>\n",
       "    </tr>\n",
       "  </thead>\n",
       "  <tbody>\n",
       "    <tr>\n",
       "      <th>0</th>\n",
       "      <td>Development Director</td>\n",
       "      <td>ALS TDI</td>\n",
       "      <td>Development Director\\nALS Therapy Development ...</td>\n",
       "      <td>NaN</td>\n",
       "      <td>Atlanta, GA 30301</td>\n",
       "    </tr>\n",
       "    <tr>\n",
       "      <th>1</th>\n",
       "      <td>An Ostentatiously-Excitable Principal Research...</td>\n",
       "      <td>The Hexagon Lavish</td>\n",
       "      <td>Job Description\\n\\n\"The road that leads to acc...</td>\n",
       "      <td>NaN</td>\n",
       "      <td>Atlanta, GA</td>\n",
       "    </tr>\n",
       "    <tr>\n",
       "      <th>2</th>\n",
       "      <td>Data Scientist</td>\n",
       "      <td>Xpert Staffing</td>\n",
       "      <td>Growing company located in the Atlanta, GA are...</td>\n",
       "      <td>NaN</td>\n",
       "      <td>Atlanta, GA</td>\n",
       "    </tr>\n",
       "    <tr>\n",
       "      <th>3</th>\n",
       "      <td>Data Analyst</td>\n",
       "      <td>Operation HOPE</td>\n",
       "      <td>DEPARTMENT: Program OperationsPOSITION LOCATIO...</td>\n",
       "      <td>44.0</td>\n",
       "      <td>Atlanta, GA 30303</td>\n",
       "    </tr>\n",
       "    <tr>\n",
       "      <th>4</th>\n",
       "      <td>Assistant Professor -TT - Signal Processing &amp; ...</td>\n",
       "      <td>Emory University</td>\n",
       "      <td>DESCRIPTION\\nThe Emory University Department o...</td>\n",
       "      <td>550.0</td>\n",
       "      <td>Atlanta, GA</td>\n",
       "    </tr>\n",
       "  </tbody>\n",
       "</table>\n",
       "</div>"
      ],
      "text/plain": [
       "                                            position             company  \\\n",
       "0                               Development Director             ALS TDI   \n",
       "1  An Ostentatiously-Excitable Principal Research...  The Hexagon Lavish   \n",
       "2                                     Data Scientist      Xpert Staffing   \n",
       "3                                       Data Analyst      Operation HOPE   \n",
       "4  Assistant Professor -TT - Signal Processing & ...    Emory University   \n",
       "\n",
       "                                         description  reviews  \\\n",
       "0  Development Director\\nALS Therapy Development ...      NaN   \n",
       "1  Job Description\\n\\n\"The road that leads to acc...      NaN   \n",
       "2  Growing company located in the Atlanta, GA are...      NaN   \n",
       "3  DEPARTMENT: Program OperationsPOSITION LOCATIO...     44.0   \n",
       "4  DESCRIPTION\\nThe Emory University Department o...    550.0   \n",
       "\n",
       "             location  \n",
       "0  Atlanta, GA 30301   \n",
       "1         Atlanta, GA  \n",
       "2         Atlanta, GA  \n",
       "3  Atlanta, GA 30303   \n",
       "4         Atlanta, GA  "
      ]
     },
     "execution_count": 3,
     "metadata": {},
     "output_type": "execute_result"
    }
   ],
   "source": [
    "alldata.head()"
   ]
  },
  {
   "cell_type": "code",
   "execution_count": 4,
   "metadata": {},
   "outputs": [
    {
     "name": "stdout",
     "output_type": "stream",
     "text": [
      "<class 'pandas.core.frame.DataFrame'>\n",
      "RangeIndex: 6964 entries, 0 to 6963\n",
      "Data columns (total 5 columns):\n",
      " #   Column       Non-Null Count  Dtype  \n",
      "---  ------       --------------  -----  \n",
      " 0   position     6953 non-null   object \n",
      " 1   company      6953 non-null   object \n",
      " 2   description  6953 non-null   object \n",
      " 3   reviews      5326 non-null   float64\n",
      " 4   location     6953 non-null   object \n",
      "dtypes: float64(1), object(4)\n",
      "memory usage: 272.2+ KB\n"
     ]
    }
   ],
   "source": [
    "alldata.info()"
   ]
  },
  {
   "cell_type": "code",
   "execution_count": 5,
   "metadata": {},
   "outputs": [
    {
     "data": {
      "text/plain": [
       "position        object\n",
       "company         object\n",
       "description     object\n",
       "reviews        float64\n",
       "location        object\n",
       "dtype: object"
      ]
     },
     "execution_count": 5,
     "metadata": {},
     "output_type": "execute_result"
    }
   ],
   "source": [
    "alldata.dtypes #inspect the datatypes of each column"
   ]
  },
  {
   "cell_type": "code",
   "execution_count": 6,
   "metadata": {},
   "outputs": [
    {
     "data": {
      "text/plain": [
       "count               6953\n",
       "unique              5242\n",
       "top       Data Scientist\n",
       "freq                 351\n",
       "Name: position, dtype: object"
      ]
     },
     "execution_count": 6,
     "metadata": {},
     "output_type": "execute_result"
    }
   ],
   "source": [
    "alldata['position'].describe()  #describe for strings"
   ]
  },
  {
   "cell_type": "code",
   "execution_count": 7,
   "metadata": {},
   "outputs": [
    {
     "data": {
      "text/plain": [
       "(6964, 5)"
      ]
     },
     "execution_count": 7,
     "metadata": {},
     "output_type": "execute_result"
    }
   ],
   "source": [
    "alldata.shape"
   ]
  },
  {
   "cell_type": "code",
   "execution_count": 8,
   "metadata": {},
   "outputs": [
    {
     "data": {
      "text/plain": [
       "Seattle, WA           563\n",
       "New York, NY          508\n",
       "Cambridge, MA         487\n",
       "Boston, MA            454\n",
       "San Francisco, CA     425\n",
       "                     ... \n",
       "Boston, MA 02134        1\n",
       "Atlanta, GA 30350       1\n",
       "Lynbrook, NY            1\n",
       "New York, NY 10018      1\n",
       "Whippany, NJ            1\n",
       "Name: location, Length: 382, dtype: int64"
      ]
     },
     "execution_count": 8,
     "metadata": {},
     "output_type": "execute_result"
    }
   ],
   "source": [
    "#before splitting explore the fields\n",
    "alldata['location'].value_counts()"
   ]
  },
  {
   "cell_type": "code",
   "execution_count": 9,
   "metadata": {},
   "outputs": [],
   "source": [
    "#split one categorical column in two by saying to divide after the comma\n",
    "\n",
    "alldata[['location', 'state']] = alldata['location'].str.split(',', 1, expand=True)"
   ]
  },
  {
   "cell_type": "code",
   "execution_count": 10,
   "metadata": {},
   "outputs": [
    {
     "data": {
      "text/plain": [
       "New York         848\n",
       "Seattle          777\n",
       "Cambridge        694\n",
       "Boston           629\n",
       "San Francisco    564\n",
       "                ... \n",
       "East Hanover       1\n",
       "Rutherford         1\n",
       "Staten Island      1\n",
       "Secaucus           1\n",
       "Fremont            1\n",
       "Name: location, Length: 91, dtype: int64"
      ]
     },
     "execution_count": 10,
     "metadata": {},
     "output_type": "execute_result"
    }
   ],
   "source": [
    "alldata['location'].value_counts()"
   ]
  },
  {
   "cell_type": "code",
   "execution_count": 11,
   "metadata": {},
   "outputs": [
    {
     "data": {
      "text/plain": [
       " CA           1577\n",
       " MA            941\n",
       " WA            602\n",
       " NY            576\n",
       " IL            292\n",
       "              ... \n",
       " CA 94941        1\n",
       " NJ 07310        1\n",
       " NY 10962        1\n",
       " DC 20229        1\n",
       " NY 10004        1\n",
       "Name: state, Length: 318, dtype: int64"
      ]
     },
     "execution_count": 11,
     "metadata": {},
     "output_type": "execute_result"
    }
   ],
   "source": [
    "alldata['state'].value_counts()"
   ]
  },
  {
   "cell_type": "code",
   "execution_count": 12,
   "metadata": {},
   "outputs": [],
   "source": [
    "#here divide \n",
    "alldata[['state', 'zip_code']] = alldata['state'].str.split(expand=True)"
   ]
  },
  {
   "cell_type": "code",
   "execution_count": 13,
   "metadata": {},
   "outputs": [
    {
     "data": {
      "text/plain": [
       "98052    117\n",
       "98109     95\n",
       "02139     95\n",
       "10016     88\n",
       "92121     71\n",
       "        ... \n",
       "07030      1\n",
       "98122      1\n",
       "90015      1\n",
       "30322      1\n",
       "90046      1\n",
       "Name: zip_code, Length: 288, dtype: int64"
      ]
     },
     "execution_count": 13,
     "metadata": {},
     "output_type": "execute_result"
    }
   ],
   "source": [
    "alldata['zip_code'].value_counts()"
   ]
  },
  {
   "cell_type": "code",
   "execution_count": 14,
   "metadata": {},
   "outputs": [
    {
     "data": {
      "text/html": [
       "<div>\n",
       "<style scoped>\n",
       "    .dataframe tbody tr th:only-of-type {\n",
       "        vertical-align: middle;\n",
       "    }\n",
       "\n",
       "    .dataframe tbody tr th {\n",
       "        vertical-align: top;\n",
       "    }\n",
       "\n",
       "    .dataframe thead th {\n",
       "        text-align: right;\n",
       "    }\n",
       "</style>\n",
       "<table border=\"1\" class=\"dataframe\">\n",
       "  <thead>\n",
       "    <tr style=\"text-align: right;\">\n",
       "      <th></th>\n",
       "      <th>position</th>\n",
       "      <th>company</th>\n",
       "      <th>description</th>\n",
       "      <th>reviews</th>\n",
       "      <th>location</th>\n",
       "      <th>state</th>\n",
       "      <th>zip_code</th>\n",
       "    </tr>\n",
       "  </thead>\n",
       "  <tbody>\n",
       "    <tr>\n",
       "      <th>0</th>\n",
       "      <td>Development Director</td>\n",
       "      <td>ALS TDI</td>\n",
       "      <td>Development Director\\nALS Therapy Development ...</td>\n",
       "      <td>NaN</td>\n",
       "      <td>Atlanta</td>\n",
       "      <td>GA</td>\n",
       "      <td>30301</td>\n",
       "    </tr>\n",
       "    <tr>\n",
       "      <th>1</th>\n",
       "      <td>An Ostentatiously-Excitable Principal Research...</td>\n",
       "      <td>The Hexagon Lavish</td>\n",
       "      <td>Job Description\\n\\n\"The road that leads to acc...</td>\n",
       "      <td>NaN</td>\n",
       "      <td>Atlanta</td>\n",
       "      <td>GA</td>\n",
       "      <td>None</td>\n",
       "    </tr>\n",
       "    <tr>\n",
       "      <th>2</th>\n",
       "      <td>Data Scientist</td>\n",
       "      <td>Xpert Staffing</td>\n",
       "      <td>Growing company located in the Atlanta, GA are...</td>\n",
       "      <td>NaN</td>\n",
       "      <td>Atlanta</td>\n",
       "      <td>GA</td>\n",
       "      <td>None</td>\n",
       "    </tr>\n",
       "    <tr>\n",
       "      <th>3</th>\n",
       "      <td>Data Analyst</td>\n",
       "      <td>Operation HOPE</td>\n",
       "      <td>DEPARTMENT: Program OperationsPOSITION LOCATIO...</td>\n",
       "      <td>44.0</td>\n",
       "      <td>Atlanta</td>\n",
       "      <td>GA</td>\n",
       "      <td>30303</td>\n",
       "    </tr>\n",
       "    <tr>\n",
       "      <th>4</th>\n",
       "      <td>Assistant Professor -TT - Signal Processing &amp; ...</td>\n",
       "      <td>Emory University</td>\n",
       "      <td>DESCRIPTION\\nThe Emory University Department o...</td>\n",
       "      <td>550.0</td>\n",
       "      <td>Atlanta</td>\n",
       "      <td>GA</td>\n",
       "      <td>None</td>\n",
       "    </tr>\n",
       "    <tr>\n",
       "      <th>...</th>\n",
       "      <td>...</td>\n",
       "      <td>...</td>\n",
       "      <td>...</td>\n",
       "      <td>...</td>\n",
       "      <td>...</td>\n",
       "      <td>...</td>\n",
       "      <td>...</td>\n",
       "    </tr>\n",
       "    <tr>\n",
       "      <th>6959</th>\n",
       "      <td>Data Developer / Machine Learning Analyst</td>\n",
       "      <td>NetApp</td>\n",
       "      <td>Are you data-driven? We at NetApp believe in t...</td>\n",
       "      <td>574.0</td>\n",
       "      <td>Sunnyvale</td>\n",
       "      <td>CA</td>\n",
       "      <td>None</td>\n",
       "    </tr>\n",
       "    <tr>\n",
       "      <th>6960</th>\n",
       "      <td>Scientist I</td>\n",
       "      <td>Pharmacyclics, an Abbvie Company</td>\n",
       "      <td>Pharmacyclics is committed to the development ...</td>\n",
       "      <td>26.0</td>\n",
       "      <td>Sunnyvale</td>\n",
       "      <td>CA</td>\n",
       "      <td>None</td>\n",
       "    </tr>\n",
       "    <tr>\n",
       "      <th>6961</th>\n",
       "      <td>Intern Scientist</td>\n",
       "      <td>Oath Inc</td>\n",
       "      <td>Oath, a subsidiary of Verizon, is a values-led...</td>\n",
       "      <td>5.0</td>\n",
       "      <td>Sunnyvale</td>\n",
       "      <td>CA</td>\n",
       "      <td>None</td>\n",
       "    </tr>\n",
       "    <tr>\n",
       "      <th>6962</th>\n",
       "      <td>Senior Data &amp; Applied Scientist</td>\n",
       "      <td>Microsoft</td>\n",
       "      <td>We are the Bing Core Relevance team responsibl...</td>\n",
       "      <td>4618.0</td>\n",
       "      <td>Sunnyvale</td>\n",
       "      <td>CA</td>\n",
       "      <td>None</td>\n",
       "    </tr>\n",
       "    <tr>\n",
       "      <th>6963</th>\n",
       "      <td>Principal Data Scientist, Deep Learning</td>\n",
       "      <td>Comcast</td>\n",
       "      <td>Comcast’s Technology &amp;amp; Product organizatio...</td>\n",
       "      <td>11610.0</td>\n",
       "      <td>Sunnyvale</td>\n",
       "      <td>CA</td>\n",
       "      <td>94089</td>\n",
       "    </tr>\n",
       "  </tbody>\n",
       "</table>\n",
       "<p>6964 rows × 7 columns</p>\n",
       "</div>"
      ],
      "text/plain": [
       "                                               position  \\\n",
       "0                                  Development Director   \n",
       "1     An Ostentatiously-Excitable Principal Research...   \n",
       "2                                        Data Scientist   \n",
       "3                                          Data Analyst   \n",
       "4     Assistant Professor -TT - Signal Processing & ...   \n",
       "...                                                 ...   \n",
       "6959          Data Developer / Machine Learning Analyst   \n",
       "6960                                        Scientist I   \n",
       "6961                                   Intern Scientist   \n",
       "6962                    Senior Data & Applied Scientist   \n",
       "6963            Principal Data Scientist, Deep Learning   \n",
       "\n",
       "                               company  \\\n",
       "0                              ALS TDI   \n",
       "1                   The Hexagon Lavish   \n",
       "2                       Xpert Staffing   \n",
       "3                       Operation HOPE   \n",
       "4                     Emory University   \n",
       "...                                ...   \n",
       "6959                            NetApp   \n",
       "6960  Pharmacyclics, an Abbvie Company   \n",
       "6961                          Oath Inc   \n",
       "6962                         Microsoft   \n",
       "6963                           Comcast   \n",
       "\n",
       "                                            description  reviews   location  \\\n",
       "0     Development Director\\nALS Therapy Development ...      NaN    Atlanta   \n",
       "1     Job Description\\n\\n\"The road that leads to acc...      NaN    Atlanta   \n",
       "2     Growing company located in the Atlanta, GA are...      NaN    Atlanta   \n",
       "3     DEPARTMENT: Program OperationsPOSITION LOCATIO...     44.0    Atlanta   \n",
       "4     DESCRIPTION\\nThe Emory University Department o...    550.0    Atlanta   \n",
       "...                                                 ...      ...        ...   \n",
       "6959  Are you data-driven? We at NetApp believe in t...    574.0  Sunnyvale   \n",
       "6960  Pharmacyclics is committed to the development ...     26.0  Sunnyvale   \n",
       "6961  Oath, a subsidiary of Verizon, is a values-led...      5.0  Sunnyvale   \n",
       "6962  We are the Bing Core Relevance team responsibl...   4618.0  Sunnyvale   \n",
       "6963  Comcast’s Technology &amp; Product organizatio...  11610.0  Sunnyvale   \n",
       "\n",
       "     state zip_code  \n",
       "0       GA    30301  \n",
       "1       GA     None  \n",
       "2       GA     None  \n",
       "3       GA    30303  \n",
       "4       GA     None  \n",
       "...    ...      ...  \n",
       "6959    CA     None  \n",
       "6960    CA     None  \n",
       "6961    CA     None  \n",
       "6962    CA     None  \n",
       "6963    CA    94089  \n",
       "\n",
       "[6964 rows x 7 columns]"
      ]
     },
     "execution_count": 14,
     "metadata": {},
     "output_type": "execute_result"
    }
   ],
   "source": [
    "alldata"
   ]
  },
  {
   "cell_type": "code",
   "execution_count": 15,
   "metadata": {},
   "outputs": [
    {
     "data": {
      "text/plain": [
       "position        object\n",
       "company         object\n",
       "description     object\n",
       "reviews        float64\n",
       "location        object\n",
       "state           object\n",
       "zip_code        object\n",
       "dtype: object"
      ]
     },
     "execution_count": 15,
     "metadata": {},
     "output_type": "execute_result"
    }
   ],
   "source": [
    "alldata.dtypes"
   ]
  },
  {
   "cell_type": "code",
   "execution_count": 16,
   "metadata": {},
   "outputs": [
    {
     "data": {
      "text/plain": [
       "position         11\n",
       "company          11\n",
       "description      11\n",
       "reviews        1638\n",
       "location         11\n",
       "state            11\n",
       "zip_code       4821\n",
       "dtype: int64"
      ]
     },
     "execution_count": 16,
     "metadata": {},
     "output_type": "execute_result"
    }
   ],
   "source": [
    "alldata.isnull().sum()\n",
    "#check for NaN values    \n",
    "    "
   ]
  },
  {
   "cell_type": "code",
   "execution_count": 18,
   "metadata": {},
   "outputs": [],
   "source": [
    "#dropping the rows where there are NaNs\n",
    "alldata.drop(index = alldata[alldata['position'].isnull()].index, inplace = True)"
   ]
  },
  {
   "cell_type": "code",
   "execution_count": 19,
   "metadata": {},
   "outputs": [
    {
     "data": {
      "text/plain": [
       "position       False\n",
       "company        False\n",
       "description    False\n",
       "reviews         True\n",
       "location       False\n",
       "state          False\n",
       "zip_code        True\n",
       "dtype: bool"
      ]
     },
     "execution_count": 19,
     "metadata": {},
     "output_type": "execute_result"
    }
   ],
   "source": [
    "alldata.isnull().any()"
   ]
  },
  {
   "cell_type": "code",
   "execution_count": 20,
   "metadata": {},
   "outputs": [
    {
     "data": {
      "text/plain": [
       "position          0\n",
       "company           0\n",
       "description       0\n",
       "reviews        1627\n",
       "location          0\n",
       "state             0\n",
       "zip_code       4810\n",
       "dtype: int64"
      ]
     },
     "execution_count": 20,
     "metadata": {},
     "output_type": "execute_result"
    }
   ],
   "source": [
    "alldata.isnull().sum()"
   ]
  },
  {
   "cell_type": "code",
   "execution_count": 23,
   "metadata": {},
   "outputs": [
    {
     "data": {
      "text/plain": [
       "(6953, 7)"
      ]
     },
     "execution_count": 23,
     "metadata": {},
     "output_type": "execute_result"
    }
   ],
   "source": [
    "alldata.shape"
   ]
  },
  {
   "cell_type": "code",
   "execution_count": 24,
   "metadata": {},
   "outputs": [],
   "source": [
    "#make a copy of the dataframe\n",
    "data = alldata.copy()"
   ]
  },
  {
   "cell_type": "code",
   "execution_count": 25,
   "metadata": {},
   "outputs": [],
   "source": [
    "#let the index start from 1 insted of zero because you want to work in sql later\n",
    "data.index = data.index + 1"
   ]
  },
  {
   "cell_type": "code",
   "execution_count": 31,
   "metadata": {},
   "outputs": [],
   "source": [
    "data.to_csv('/Users/claudia/Ironhack/Week3/goup_project/data.csv')"
   ]
  },
  {
   "cell_type": "code",
   "execution_count": null,
   "metadata": {},
   "outputs": [],
   "source": []
  }
 ],
 "metadata": {
  "kernelspec": {
   "display_name": "Python 3",
   "language": "python",
   "name": "python3"
  },
  "language_info": {
   "codemirror_mode": {
    "name": "ipython",
    "version": 3
   },
   "file_extension": ".py",
   "mimetype": "text/x-python",
   "name": "python",
   "nbconvert_exporter": "python",
   "pygments_lexer": "ipython3",
   "version": "3.8.3"
  }
 },
 "nbformat": 4,
 "nbformat_minor": 4
}
