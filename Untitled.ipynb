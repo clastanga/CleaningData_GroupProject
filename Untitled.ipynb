{
 "cells": [
  {
   "cell_type": "code",
   "execution_count": 1,
   "metadata": {},
   "outputs": [],
   "source": [
    "import pandas as pd\n",
    "import numpy as np\n",
    "import datetime\n",
    "import matplotlib.pyplot as plt\n",
    "import seaborn as sns\n",
    "sns.set_style('whitegrid')\n",
    "\n",
    "pd.set_option('display.max_columns', None)"
   ]
  },
  {
   "cell_type": "code",
   "execution_count": 2,
   "metadata": {},
   "outputs": [],
   "source": [
    "data = pd.read_csv('/Users/claudia/Ironhack/Week3/goup_project/repository_github/CleaningData_GroupProject/merged.csv')"
   ]
  },
  {
   "cell_type": "code",
   "execution_count": 3,
   "metadata": {},
   "outputs": [
    {
     "data": {
      "text/html": [
       "<div>\n",
       "<style scoped>\n",
       "    .dataframe tbody tr th:only-of-type {\n",
       "        vertical-align: middle;\n",
       "    }\n",
       "\n",
       "    .dataframe tbody tr th {\n",
       "        vertical-align: top;\n",
       "    }\n",
       "\n",
       "    .dataframe thead th {\n",
       "        text-align: right;\n",
       "    }\n",
       "</style>\n",
       "<table border=\"1\" class=\"dataframe\">\n",
       "  <thead>\n",
       "    <tr style=\"text-align: right;\">\n",
       "      <th></th>\n",
       "      <th>ID</th>\n",
       "      <th>position</th>\n",
       "      <th>company</th>\n",
       "      <th>reviews</th>\n",
       "      <th>location</th>\n",
       "      <th>zip_code</th>\n",
       "      <th>description</th>\n",
       "      <th>name</th>\n",
       "      <th>size</th>\n",
       "      <th>industry</th>\n",
       "      <th>country</th>\n",
       "    </tr>\n",
       "  </thead>\n",
       "  <tbody>\n",
       "    <tr>\n",
       "      <th>0</th>\n",
       "      <td>5317</td>\n",
       "      <td>Field Application Scientist - Boston</td>\n",
       "      <td>10x Genomics</td>\n",
       "      <td>NaN</td>\n",
       "      <td>Boston</td>\n",
       "      <td>NaN</td>\n",
       "      <td>Region: Boston\\n\\nThe Field Applications Scien...</td>\n",
       "      <td>10x genomics</td>\n",
       "      <td>201-500</td>\n",
       "      <td>biotechnology</td>\n",
       "      <td>united states</td>\n",
       "    </tr>\n",
       "    <tr>\n",
       "      <th>1</th>\n",
       "      <td>3124</td>\n",
       "      <td>Validation Scientist</td>\n",
       "      <td>23andMe</td>\n",
       "      <td>4.0</td>\n",
       "      <td>Mountain View</td>\n",
       "      <td>94041.0</td>\n",
       "      <td>23andMe is seeking a talented Validation Scien...</td>\n",
       "      <td>23andme</td>\n",
       "      <td>501-1000</td>\n",
       "      <td>biotechnology</td>\n",
       "      <td>united states</td>\n",
       "    </tr>\n",
       "    <tr>\n",
       "      <th>2</th>\n",
       "      <td>1559</td>\n",
       "      <td>Scientist / Senior Scientist - Computational B...</td>\n",
       "      <td>23andMe</td>\n",
       "      <td>4.0</td>\n",
       "      <td>Mountain View</td>\n",
       "      <td>94041.0</td>\n",
       "      <td>With the world’s largest database of more than...</td>\n",
       "      <td>23andme</td>\n",
       "      <td>501-1000</td>\n",
       "      <td>biotechnology</td>\n",
       "      <td>united states</td>\n",
       "    </tr>\n",
       "    <tr>\n",
       "      <th>3</th>\n",
       "      <td>3076</td>\n",
       "      <td>Population Geneticist - Ancestry Research</td>\n",
       "      <td>23andMe</td>\n",
       "      <td>4.0</td>\n",
       "      <td>Mountain View</td>\n",
       "      <td>94041.0</td>\n",
       "      <td>We are seeking colleagues with extensive train...</td>\n",
       "      <td>23andme</td>\n",
       "      <td>501-1000</td>\n",
       "      <td>biotechnology</td>\n",
       "      <td>united states</td>\n",
       "    </tr>\n",
       "    <tr>\n",
       "      <th>4</th>\n",
       "      <td>2764</td>\n",
       "      <td>Senior Product Manager, Research Tools</td>\n",
       "      <td>23andMe</td>\n",
       "      <td>4.0</td>\n",
       "      <td>Mountain View</td>\n",
       "      <td>94041.0</td>\n",
       "      <td>Who we are\\n\\n23andMe’s mission is to help ind...</td>\n",
       "      <td>23andme</td>\n",
       "      <td>501-1000</td>\n",
       "      <td>biotechnology</td>\n",
       "      <td>united states</td>\n",
       "    </tr>\n",
       "  </tbody>\n",
       "</table>\n",
       "</div>"
      ],
      "text/plain": [
       "     ID                                           position       company  \\\n",
       "0  5317               Field Application Scientist - Boston  10x Genomics   \n",
       "1  3124                               Validation Scientist       23andMe   \n",
       "2  1559  Scientist / Senior Scientist - Computational B...       23andMe   \n",
       "3  3076          Population Geneticist - Ancestry Research       23andMe   \n",
       "4  2764             Senior Product Manager, Research Tools       23andMe   \n",
       "\n",
       "   reviews       location  zip_code  \\\n",
       "0      NaN         Boston       NaN   \n",
       "1      4.0  Mountain View   94041.0   \n",
       "2      4.0  Mountain View   94041.0   \n",
       "3      4.0  Mountain View   94041.0   \n",
       "4      4.0  Mountain View   94041.0   \n",
       "\n",
       "                                         description          name      size  \\\n",
       "0  Region: Boston\\n\\nThe Field Applications Scien...  10x genomics   201-500   \n",
       "1  23andMe is seeking a talented Validation Scien...       23andme  501-1000   \n",
       "2  With the world’s largest database of more than...       23andme  501-1000   \n",
       "3  We are seeking colleagues with extensive train...       23andme  501-1000   \n",
       "4  Who we are\\n\\n23andMe’s mission is to help ind...       23andme  501-1000   \n",
       "\n",
       "        industry        country  \n",
       "0  biotechnology  united states  \n",
       "1  biotechnology  united states  \n",
       "2  biotechnology  united states  \n",
       "3  biotechnology  united states  \n",
       "4  biotechnology  united states  "
      ]
     },
     "execution_count": 3,
     "metadata": {},
     "output_type": "execute_result"
    }
   ],
   "source": [
    "data.head()"
   ]
  },
  {
   "cell_type": "code",
   "execution_count": 4,
   "metadata": {},
   "outputs": [
    {
     "name": "stdout",
     "output_type": "stream",
     "text": [
      "<class 'pandas.core.frame.DataFrame'>\n",
      "RangeIndex: 4099 entries, 0 to 4098\n",
      "Data columns (total 11 columns):\n",
      " #   Column       Non-Null Count  Dtype  \n",
      "---  ------       --------------  -----  \n",
      " 0   ID           4099 non-null   int64  \n",
      " 1   position     4099 non-null   object \n",
      " 2   company      4099 non-null   object \n",
      " 3   reviews      3404 non-null   float64\n",
      " 4   location     4099 non-null   object \n",
      " 5   zip_code     1472 non-null   float64\n",
      " 6   description  4099 non-null   object \n",
      " 7   name         4099 non-null   object \n",
      " 8   size         4099 non-null   object \n",
      " 9   industry     4099 non-null   object \n",
      " 10  country      4099 non-null   object \n",
      "dtypes: float64(2), int64(1), object(8)\n",
      "memory usage: 352.4+ KB\n"
     ]
    }
   ],
   "source": [
    "data.info()"
   ]
  },
  {
   "cell_type": "code",
   "execution_count": 5,
   "metadata": {},
   "outputs": [
    {
     "data": {
      "text/plain": [
       "(4099, 11)"
      ]
     },
     "execution_count": 5,
     "metadata": {},
     "output_type": "execute_result"
    }
   ],
   "source": [
    "data.shape"
   ]
  },
  {
   "cell_type": "code",
   "execution_count": 7,
   "metadata": {},
   "outputs": [
    {
     "data": {
      "text/plain": [
       "10001+        1349\n",
       "1001-5000      816\n",
       "51-200         590\n",
       "201-500        464\n",
       "11-50          340\n",
       "501-1000       312\n",
       "5001-10000     228\n",
       "Name: size, dtype: int64"
      ]
     },
     "execution_count": 7,
     "metadata": {},
     "output_type": "execute_result"
    }
   ],
   "source": [
    "data['size'].value_counts()"
   ]
  },
  {
   "cell_type": "code",
   "execution_count": 8,
   "metadata": {},
   "outputs": [
    {
     "data": {
      "text/plain": [
       "internet                               557\n",
       "computer software                      446\n",
       "biotechnology                          398\n",
       "information technology and services    245\n",
       "financial services                     234\n",
       "                                      ... \n",
       "luxury goods & jewelry                   1\n",
       "law practice                             1\n",
       "graphic design                           1\n",
       "professional training & coaching         1\n",
       "gambling & casinos                       1\n",
       "Name: industry, Length: 102, dtype: int64"
      ]
     },
     "execution_count": 8,
     "metadata": {},
     "output_type": "execute_result"
    }
   ],
   "source": [
    "data['industry'].value_counts()"
   ]
  },
  {
   "cell_type": "code",
   "execution_count": 13,
   "metadata": {},
   "outputs": [
    {
     "data": {
      "text/html": [
       "<div>\n",
       "<style scoped>\n",
       "    .dataframe tbody tr th:only-of-type {\n",
       "        vertical-align: middle;\n",
       "    }\n",
       "\n",
       "    .dataframe tbody tr th {\n",
       "        vertical-align: top;\n",
       "    }\n",
       "\n",
       "    .dataframe thead th {\n",
       "        text-align: right;\n",
       "    }\n",
       "</style>\n",
       "<table border=\"1\" class=\"dataframe\">\n",
       "  <thead>\n",
       "    <tr style=\"text-align: right;\">\n",
       "      <th></th>\n",
       "      <th>ID</th>\n",
       "      <th>position</th>\n",
       "      <th>company</th>\n",
       "      <th>reviews</th>\n",
       "      <th>location</th>\n",
       "      <th>zip_code</th>\n",
       "      <th>description</th>\n",
       "      <th>name</th>\n",
       "      <th>size</th>\n",
       "      <th>industry</th>\n",
       "      <th>country</th>\n",
       "    </tr>\n",
       "  </thead>\n",
       "  <tbody>\n",
       "  </tbody>\n",
       "</table>\n",
       "</div>"
      ],
      "text/plain": [
       "Empty DataFrame\n",
       "Columns: [ID, position, company, reviews, location, zip_code, description, name, size, industry, country]\n",
       "Index: []"
      ]
     },
     "execution_count": 13,
     "metadata": {},
     "output_type": "execute_result"
    }
   ],
   "source": [
    "data['company']"
   ]
  },
  {
   "cell_type": "code",
   "execution_count": null,
   "metadata": {},
   "outputs": [],
   "source": []
  }
 ],
 "metadata": {
  "kernelspec": {
   "display_name": "Python 3",
   "language": "python",
   "name": "python3"
  },
  "language_info": {
   "codemirror_mode": {
    "name": "ipython",
    "version": 3
   },
   "file_extension": ".py",
   "mimetype": "text/x-python",
   "name": "python",
   "nbconvert_exporter": "python",
   "pygments_lexer": "ipython3",
   "version": "3.8.3"
  }
 },
 "nbformat": 4,
 "nbformat_minor": 4
}
